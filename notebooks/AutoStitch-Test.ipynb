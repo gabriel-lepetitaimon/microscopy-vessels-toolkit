{
 "cells": [
  {
   "cell_type": "markdown",
   "id": "64fc9d72-7532-47a7-86e5-fdedd814dd06",
   "metadata": {},
   "source": [
    "<p style='\n",
    "  color: #3b4045; \n",
    "  text-align: center;\n",
    "  font-weight: bold;\n",
    "  font-family: -apple-system,BlinkMacSystemFont, \"Segoe UI Adjusted\",\"Segoe UI\",\"Liberation Sans\",sans-serif;     font-size: 2.07692308rem; '> \n",
    "    Tumoral Vessels - Auto Stitch \n",
    "</p>"
   ]
  },
  {
   "cell_type": "markdown",
   "id": "dd72fb07-600d-410b-a920-e4184c49cda5",
   "metadata": {},
   "source": [
    "### Init"
   ]
  },
  {
   "cell_type": "markdown",
   "id": "b9bcebea-a48e-484a-b12d-0c1eaf5a4135",
   "metadata": {
    "jp-MarkdownHeadingCollapsed": true
   },
   "source": [
    "##### General imports"
   ]
  },
  {
   "cell_type": "code",
   "execution_count": null,
   "id": "55f8f62a-d215-47bf-80eb-32de19d1751b",
   "metadata": {},
   "outputs": [],
   "source": [
    "%load_ext autoreload\n",
    "%autoreload 2"
   ]
  },
  {
   "cell_type": "code",
   "execution_count": null,
   "id": "f2c783d2-570a-41b2-abde-e6f4600c63b6",
   "metadata": {},
   "outputs": [],
   "source": [
    "import cv2\n",
    "import numpy as np\n",
    "import networkx as nx\n",
    "\n",
    "from jppype import imshow, sync_views\n",
    "from ipywidgets import GridspecLayout"
   ]
  },
  {
   "cell_type": "markdown",
   "id": "7d9847d8-61d0-4f39-8e25-93a5e750011c",
   "metadata": {
    "jp-MarkdownHeadingCollapsed": true
   },
   "source": [
    "##### Library imports"
   ]
  },
  {
   "cell_type": "code",
   "execution_count": null,
   "id": "0f0886fe-f104-4776-939f-53264fdf89a1",
   "metadata": {
    "scrolled": true
   },
   "outputs": [],
   "source": [
    "from microscopy_vessels_toolkit.preprocess.stitch import *\n",
    "from microscopy_vessels_toolkit.utilities.geometry import Rect\n",
    "from microscopy_vessels_toolkit.preprocess.enhance import enhance_microscopy"
   ]
  },
  {
   "cell_type": "markdown",
   "id": "f974a74c-f8cd-4b93-9d9a-7cad6b56e3f7",
   "metadata": {},
   "source": [
    "### Stitching"
   ]
  },
  {
   "cell_type": "markdown",
   "id": "d77ae22b-03ff-49c3-8921-14b6e5b2a94d",
   "metadata": {},
   "source": [
    "Load slide from pptx. Rescale patches coordinates to match image resolution."
   ]
  },
  {
   "cell_type": "code",
   "execution_count": null,
   "id": "509ee38a-a35b-43ba-a3db-3c75b076857f",
   "metadata": {},
   "outputs": [],
   "source": [
    "stitching = PatchStitching.load_pptx_slide('PATH/TO/PPTX/G2.pptx', 2)\n",
    "_ = stitching.crop_to_content()"
   ]
  },
  {
   "cell_type": "markdown",
   "id": "700128e1-2c3d-454d-960b-5c001f800e10",
   "metadata": {},
   "source": [
    "\n",
    "Perform registration using both one2one and one2all method."
   ]
  },
  {
   "cell_type": "code",
   "execution_count": null,
   "id": "94d9fecf-7754-41cb-9c3b-e6ec6db81f63",
   "metadata": {},
   "outputs": [],
   "source": [
    "reg = MultiPatchRegistration()\n",
    "reg_stitching1, reg_debug1 = reg(stitching, return_debug=True, verbose=True)\n",
    "reg_stitching2, reg_debug2 = reg.one2all_registration(stitching, return_debug=True, verbose=True)"
   ]
  },
  {
   "cell_type": "markdown",
   "id": "e29b15c8-8ca9-4414-9f72-8aaa8b0df363",
   "metadata": {},
   "source": [
    "Display the registration result and the patch dependency tree:\n",
    " - **Left** : one2one method\n",
    " - **Center**: Initial position\n",
    " - **Right**: one2all method"
   ]
  },
  {
   "cell_type": "code",
   "execution_count": null,
   "id": "fb1c10ad-3cda-42ea-96fb-97fa63bca7c3",
   "metadata": {
    "jupyter": {
     "source_hidden": true
    }
   },
   "outputs": [],
   "source": [
    "grid = GridspecLayout(1,3, height='650px')\n",
    "v1 = imshow(reg_stitching1.stitch('mean') * 255)\n",
    "v1.add_graph(reg_debug1['optimal_path'].edges, reg_stitching1.patch_centers(), name='graph')\n",
    "grid[0,0] = v1\n",
    "grid[0,1] = imshow(stitching.stitch('mean') * 255)\n",
    "v2 = imshow(reg_stitching2.stitch('mean') * 255)\n",
    "v2.add_graph(reg_debug2['optimal_path'].edges, reg_stitching2.patch_centers(), name='graph')\n",
    "grid[0,2] = v2\n",
    "sync_views(grid[0,0], grid[0,1], grid[0,2])\n",
    "grid"
   ]
  }
 ],
 "metadata": {
  "kernelspec": {
   "display_name": "Python 3 (ipykernel)",
   "language": "python",
   "name": "python3"
  },
  "language_info": {
   "codemirror_mode": {
    "name": "ipython",
    "version": 3
   },
   "file_extension": ".py",
   "mimetype": "text/x-python",
   "name": "python",
   "nbconvert_exporter": "python",
   "pygments_lexer": "ipython3",
   "version": "3.10.11"
  }
 },
 "nbformat": 4,
 "nbformat_minor": 5
}
