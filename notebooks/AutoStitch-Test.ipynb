{
 "cells": [
  {
   "cell_type": "markdown",
   "id": "64fc9d72-7532-47a7-86e5-fdedd814dd06",
   "metadata": {},
   "source": [
    "<p style='\n",
    "  color: #3b4045; \n",
    "  text-align: center;\n",
    "  font-weight: bold;\n",
    "  font-family: -apple-system,BlinkMacSystemFont, \"Segoe UI Adjusted\",\"Segoe UI\",\"Liberation Sans\",sans-serif;     font-size: 2.07692308rem; '> \n",
    "    Tumoral Vessels - Auto Stitch \n",
    "</p>"
   ]
  },
  {
   "cell_type": "markdown",
   "id": "dd72fb07-600d-410b-a920-e4184c49cda5",
   "metadata": {},
   "source": [
    "### Init"
   ]
  },
  {
   "cell_type": "markdown",
   "id": "b9bcebea-a48e-484a-b12d-0c1eaf5a4135",
   "metadata": {},
   "source": [
    "##### General imports"
   ]
  },
  {
   "cell_type": "code",
   "execution_count": 1,
   "id": "55f8f62a-d215-47bf-80eb-32de19d1751b",
   "metadata": {},
   "outputs": [],
   "source": [
    "%load_ext autoreload\n",
    "%autoreload 2"
   ]
  },
  {
   "cell_type": "code",
   "execution_count": 2,
   "id": "f2c783d2-570a-41b2-abde-e6f4600c63b6",
   "metadata": {},
   "outputs": [],
   "source": [
    "import cv2\n",
    "import numpy as np\n",
    "from jppype import imshow\n",
    "\n",
    "import networkx as nx"
   ]
  },
  {
   "cell_type": "markdown",
   "id": "7d9847d8-61d0-4f39-8e25-93a5e750011c",
   "metadata": {},
   "source": [
    "##### Library imports"
   ]
  },
  {
   "cell_type": "code",
   "execution_count": 3,
   "id": "0f0886fe-f104-4776-939f-53264fdf89a1",
   "metadata": {
    "scrolled": true
   },
   "outputs": [],
   "source": [
    "from microscopy_vessels_toolkit.preprocess.stitch import *\n",
    "from microscopy_vessels_toolkit.utilities.geometry import Rect\n",
    "from microscopy_vessels_toolkit.preprocess.enhance import enhance_microscopy"
   ]
  },
  {
   "cell_type": "code",
   "execution_count": null,
   "id": "58fab486-9b77-4f7b-a97d-e94f39c2d9a2",
   "metadata": {},
   "outputs": [],
   "source": []
  },
  {
   "cell_type": "code",
   "execution_count": 4,
   "id": "bc4c022a-2621-47d3-9fa2-7984c430bf8a",
   "metadata": {},
   "outputs": [],
   "source": [
    "import optuna"
   ]
  },
  {
   "cell_type": "markdown",
   "id": "f974a74c-f8cd-4b93-9d9a-7cad6b56e3f7",
   "metadata": {},
   "source": [
    "### Open Base Stitching"
   ]
  },
  {
   "cell_type": "code",
   "execution_count": 5,
   "id": "509ee38a-a35b-43ba-a3db-3c75b076857f",
   "metadata": {},
   "outputs": [],
   "source": [
    "stitching = PatchStitching.load_pptx_slide('../DATA/0-mosaic/G2.pptx', 6)\n",
    "_ = stitching.crop_to_content()\n",
    "#stitching = stitching.map_images(enhance_microscopy, verbose=True)"
   ]
  },
  {
   "cell_type": "code",
   "execution_count": 6,
   "id": "94d9fecf-7754-41cb-9c3b-e6ec6db81f63",
   "metadata": {},
   "outputs": [
    {
     "name": "stderr",
     "output_type": "stream",
     "text": [
      "                                                                                                                                                                                           "
     ]
    },
    {
     "name": "stdout",
     "output_type": "stream",
     "text": [
      "\tTotal metric of optimal path: 36.85\n"
     ]
    },
    {
     "name": "stderr",
     "output_type": "stream",
     "text": [
      "\r"
     ]
    }
   ],
   "source": [
    "reg = MultiPatchRegistration()\n",
    "reg_stitching, reg_debug = reg(stitching, return_debug=True, verbose=True)"
   ]
  },
  {
   "cell_type": "code",
   "execution_count": null,
   "id": "fb1c10ad-3cda-42ea-96fb-97fa63bca7c3",
   "metadata": {},
   "outputs": [],
   "source": []
  },
  {
   "cell_type": "code",
   "execution_count": 7,
   "id": "3d6d0799-51f4-441c-8a49-c0ecca4df85a",
   "metadata": {},
   "outputs": [
    {
     "data": {
      "application/vnd.jupyter.widget-view+json": {
       "model_id": "916b25cba5014f93a0f53bf15ada635b",
       "version_major": 2,
       "version_minor": 0
      },
      "text/plain": [
       "View2D()"
      ]
     },
     "execution_count": 7,
     "metadata": {},
     "output_type": "execute_result"
    }
   ],
   "source": [
    "v = imshow(reg_stitching.stitch('mean') * 255)\n",
    "v"
   ]
  },
  {
   "cell_type": "code",
   "execution_count": 8,
   "id": "44ac6618-2a4a-433b-857b-f759ef55ef9f",
   "metadata": {},
   "outputs": [
    {
     "data": {
      "application/vnd.jupyter.widget-view+json": {
       "model_id": "83c789fccf474c388b1e6b2642903378",
       "version_major": 2,
       "version_minor": 0
      },
      "text/plain": [
       "View2D()"
      ]
     },
     "execution_count": 8,
     "metadata": {},
     "output_type": "execute_result"
    }
   ],
   "source": [
    "v = imshow(stitching.stitch('mean') * 255)\n",
    "v"
   ]
  }
 ],
 "metadata": {
  "kernelspec": {
   "display_name": "Python 3 (ipykernel)",
   "language": "python",
   "name": "python3"
  },
  "language_info": {
   "codemirror_mode": {
    "name": "ipython",
    "version": 3
   },
   "file_extension": ".py",
   "mimetype": "text/x-python",
   "name": "python",
   "nbconvert_exporter": "python",
   "pygments_lexer": "ipython3",
   "version": "3.10.11"
  }
 },
 "nbformat": 4,
 "nbformat_minor": 5
}
