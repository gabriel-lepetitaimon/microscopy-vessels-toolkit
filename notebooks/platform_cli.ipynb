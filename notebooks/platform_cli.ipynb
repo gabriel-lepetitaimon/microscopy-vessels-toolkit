{
 "cells": [
  {
   "cell_type": "code",
   "execution_count": 1,
   "id": "6cd136a4-f60b-4ffe-ad3e-29f365e00b2f",
   "metadata": {},
   "outputs": [],
   "source": [
    "import liv4dcli as cli\n",
    "import cv2\n",
    "from jppype import imshow\n",
    "from tqdm import tqdm\n",
    "import os"
   ]
  },
  {
   "cell_type": "code",
   "execution_count": 2,
   "id": "868f1c1e-8c27-4d04-8fba-8697becf5303",
   "metadata": {},
   "outputs": [],
   "source": [
    "cli.config.url = 'http://liv4dfs.gi.polymtl.ca'\n"
   ]
  },
  {
   "cell_type": "code",
   "execution_count": 3,
   "id": "ddb9ad29-151d-4363-acd0-1a051dcda489",
   "metadata": {},
   "outputs": [
    {
     "data": {
      "text/plain": [
       "[{'id': '1511fd06-63cd-4460-83ce-bb895a33d518',\n",
       "  'name': 'gabriel',\n",
       "  'email': 'gabriel.lepetit-aimon@polymtl.ca',\n",
       "  'role': 'admin'},\n",
       " {'id': 'bffbe0e6-114e-4f67-a6d3-6656c3204c6d',\n",
       "  'name': 'farah',\n",
       "  'email': 'farah.yahiaoui.1@ulaval.ca',\n",
       "  'role': 'clinician'}]"
      ]
     },
     "execution_count": 3,
     "metadata": {},
     "output_type": "execute_result"
    }
   ],
   "source": [
    "cli.user.list_user()"
   ]
  },
  {
   "cell_type": "code",
   "execution_count": 12,
   "id": "cc59c91a-3e01-4104-8068-2fb27317d46e",
   "metadata": {},
   "outputs": [
    {
     "data": {
      "text/plain": [
       "True"
      ]
     },
     "execution_count": 12,
     "metadata": {},
     "output_type": "execute_result"
    }
   ],
   "source": [
    "cli.user.update('bffbe0e6-114e-4f67-a6d3-6656c3204c6d', 'Farah Yahiaoui', 'oeuf')"
   ]
  },
  {
   "cell_type": "markdown",
   "id": "0962ae80-c306-4309-bbfc-66901436014f",
   "metadata": {},
   "source": [
    "## Populate"
   ]
  },
  {
   "cell_type": "code",
   "execution_count": 11,
   "id": "ad20e73c-e24b-4bf0-b091-195b5db57ab4",
   "metadata": {},
   "outputs": [
    {
     "name": "stderr",
     "output_type": "stream",
     "text": [
      "100%|████████████████████████████████████████████████████████████████████████████████████████████████████████████████████████| 36/36 [00:09<00:00,  3.76it/s]\n"
     ]
    }
   ],
   "source": [
    "VESSELS = '/home/gaby/These/src/TissusTumoral/output/Vessels/'\n",
    "RAW = '/home/gaby/These/src/TissusTumoral/output/Raw/'\n",
    "PRE = '/home/gaby/These/src/TissusTumoral/output/Preprocessed/'\n",
    "\n",
    "files = [f for f in os.listdir('/home/gaby/These/src/TissusTumoral/output/Vessels/') if f.endswith('.png')]\n",
    "\n",
    "for f in tqdm(files):\n",
    "    if f=='G3_HT1080+VEGF_18_select_0.png':\n",
    "        continue\n",
    "    ves = cv2.imread(VESSELS+f).mean(axis=2)!=0\n",
    "    raw = RAW+f[:-3]+'jpg'\n",
    "    pre = PRE+'preprocessed_'+f[:-3]+'jpg'\n",
    "    svg = cli.revision.format_biomarkers_as_svg(1, {'Vessel': ves})\n",
    "    \n",
    "    res = cli.image.create(raw, eye='', code='', hospital='Université de Laval', patient='', visit='', image_type_id=1, base_revision=svg)\n",
    "    cli.preprocessing.create(pre, res['id'], 1)"
   ]
  },
  {
   "cell_type": "code",
   "execution_count": null,
   "id": "09e7e86b-33e8-4b8d-85dd-842132203adf",
   "metadata": {},
   "outputs": [],
   "source": []
  }
 ],
 "metadata": {
  "kernelspec": {
   "display_name": "Python 3 (ipykernel)",
   "language": "python",
   "name": "python3"
  },
  "language_info": {
   "codemirror_mode": {
    "name": "ipython",
    "version": 3
   },
   "file_extension": ".py",
   "mimetype": "text/x-python",
   "name": "python",
   "nbconvert_exporter": "python",
   "pygments_lexer": "ipython3",
   "version": "3.10.11"
  }
 },
 "nbformat": 4,
 "nbformat_minor": 5
}
