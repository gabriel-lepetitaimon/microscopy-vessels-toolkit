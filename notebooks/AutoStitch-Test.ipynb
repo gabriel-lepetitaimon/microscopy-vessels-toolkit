{
 "cells": [
  {
   "cell_type": "markdown",
   "id": "64fc9d72-7532-47a7-86e5-fdedd814dd06",
   "metadata": {},
   "source": [
    "<p style='\n",
    "  color: #3b4045; \n",
    "  text-align: center;\n",
    "  font-weight: bold;\n",
    "  font-family: -apple-system,BlinkMacSystemFont, \"Segoe UI Adjusted\",\"Segoe UI\",\"Liberation Sans\",sans-serif;     font-size: 2.07692308rem; '> \n",
    "    Tumoral Vessels - Auto Stitch \n",
    "</p>"
   ]
  },
  {
   "cell_type": "markdown",
   "id": "dd72fb07-600d-410b-a920-e4184c49cda5",
   "metadata": {},
   "source": [
    "### Init"
   ]
  },
  {
   "cell_type": "markdown",
   "id": "b9bcebea-a48e-484a-b12d-0c1eaf5a4135",
   "metadata": {},
   "source": [
    "##### General imports"
   ]
  },
  {
   "cell_type": "code",
   "execution_count": 1,
   "id": "55f8f62a-d215-47bf-80eb-32de19d1751b",
   "metadata": {},
   "outputs": [],
   "source": [
    "%load_ext autoreload\n",
    "%autoreload 2"
   ]
  },
  {
   "cell_type": "code",
   "execution_count": 2,
   "id": "f2c783d2-570a-41b2-abde-e6f4600c63b6",
   "metadata": {},
   "outputs": [],
   "source": [
    "import cv2\n",
    "import numpy as np\n",
    "import networkx as nx\n",
    "\n",
    "from jppype import imshow, sync_views\n",
    "from ipywidgets import GridspecLayout"
   ]
  },
  {
   "cell_type": "markdown",
   "id": "7d9847d8-61d0-4f39-8e25-93a5e750011c",
   "metadata": {},
   "source": [
    "##### Library imports"
   ]
  },
  {
   "cell_type": "code",
   "execution_count": 3,
   "id": "0f0886fe-f104-4776-939f-53264fdf89a1",
   "metadata": {
    "scrolled": true
   },
   "outputs": [],
   "source": [
    "from microscopy_vessels_toolkit.preprocess.stitch import *\n",
    "from microscopy_vessels_toolkit.utilities.geometry import Rect\n",
    "from microscopy_vessels_toolkit.preprocess.enhance import enhance_microscopy"
   ]
  },
  {
   "cell_type": "markdown",
   "id": "f974a74c-f8cd-4b93-9d9a-7cad6b56e3f7",
   "metadata": {},
   "source": [
    "### Open Base Stitching"
   ]
  },
  {
   "cell_type": "code",
   "execution_count": 12,
   "id": "509ee38a-a35b-43ba-a3db-3c75b076857f",
   "metadata": {},
   "outputs": [],
   "source": [
    "stitching = PatchStitching.load_pptx_slide('../DATA/0-mosaic/G2.pptx', 2)\n",
    "_ = stitching.crop_to_content()\n",
    "#stitching = stitching.map_images(enhance_microscopy, verbose=True)"
   ]
  },
  {
   "cell_type": "code",
   "execution_count": 13,
   "id": "94d9fecf-7754-41cb-9c3b-e6ec6db81f63",
   "metadata": {},
   "outputs": [
    {
     "name": "stderr",
     "output_type": "stream",
     "text": [
      "                                                                                      \r"
     ]
    },
    {
     "name": "stdout",
     "output_type": "stream",
     "text": [
      "\tTotal metric of optimal path: 31.26\n"
     ]
    }
   ],
   "source": [
    "reg = MultiPatchRegistration()\n",
    "reg_stitching, reg_debug = reg(stitching, return_debug=True, verbose=True)\n",
    "reg_stitching_bad = reg.one2all_registration(stitching)"
   ]
  },
  {
   "cell_type": "code",
   "execution_count": 14,
   "id": "fb1c10ad-3cda-42ea-96fb-97fa63bca7c3",
   "metadata": {},
   "outputs": [
    {
     "data": {
      "application/vnd.jupyter.widget-view+json": {
       "model_id": "b73065b8306d4d4eb10fb713f7e4a2c4",
       "version_major": 2,
       "version_minor": 0
      },
      "text/plain": [
       "GridspecLayout(children=(View2D(layout=Layout(grid_area='widget001'), linkedTransformGroup='137987dc667948dea0…"
      ]
     },
     "execution_count": 14,
     "metadata": {},
     "output_type": "execute_result"
    }
   ],
   "source": [
    "grid = GridspecLayout(1,3, height='650px')\n",
    "grid[0,0] = imshow(reg_stitching.stitch('mean') * 255)\n",
    "grid[0,1] = imshow(stitching.stitch('mean') * 255)\n",
    "grid[0,2] = imshow(reg_stitching_bad.stitch('mean') * 255)\n",
    "sync_views(grid[0,0], grid[0,1], grid[0,2])\n",
    "grid"
   ]
  },
  {
   "cell_type": "code",
   "execution_count": null,
   "id": "a0ac63fc-4c60-4ff8-b6ab-b4dc6f62e489",
   "metadata": {},
   "outputs": [],
   "source": []
  }
 ],
 "metadata": {
  "kernelspec": {
   "display_name": "Python 3 (ipykernel)",
   "language": "python",
   "name": "python3"
  },
  "language_info": {
   "codemirror_mode": {
    "name": "ipython",
    "version": 3
   },
   "file_extension": ".py",
   "mimetype": "text/x-python",
   "name": "python",
   "nbconvert_exporter": "python",
   "pygments_lexer": "ipython3",
   "version": "3.10.11"
  }
 },
 "nbformat": 4,
 "nbformat_minor": 5
}
